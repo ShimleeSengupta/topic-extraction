{
 "cells": [
  {
   "cell_type": "code",
   "execution_count": 13,
   "id": "ce3f584e-1d88-42b3-93ef-f6bb7af59538",
   "metadata": {},
   "outputs": [],
   "source": [
    "try:\n",
    "    import urllib.request as urllib2\n",
    "except ImportError:\n",
    "    import urllib2\n",
    "from bs4 import BeautifulSoup\n",
    "import sys"
   ]
  },
  {
   "cell_type": "code",
   "execution_count": 22,
   "id": "21eb99af-cb9f-4a34-801a-e35c4e26ae1c",
   "metadata": {},
   "outputs": [],
   "source": [
    "def getAllDoxyDonkeyPosts(url,links):\n",
    "    request=urllib2.Request(url)\n",
    "    response=urllib2.urlopen(request)\n",
    "    soup=BeautifulSoup(response)\n",
    "    #print(soup)\n",
    "    #print(soup.find_all('a').text)\n",
    "    for a in soup.findAll('a'):\n",
    "        try:\n",
    "            if a.has_attr('href') and a.has_attr('title'):\n",
    "                url=a['href']\n",
    "                title=a['title']\n",
    "                if title=='Older Posts':\n",
    "                    print (title, url)\n",
    "                    links.append(url)\n",
    "                    getAllDoxyDonkeyPosts(url,links)\n",
    "        except Exception as e:\n",
    "            title= \" \"\n",
    "            print(\"exception\",e.__class__)\n",
    "            \n",
    "    #print(\" outside for::\",len(links))\n",
    "    return\n",
    "            \n",
    "            "
   ]
  },
  {
   "cell_type": "code",
   "execution_count": 23,
   "id": "4b1402c3-84a7-4812-bf3b-80cea792e079",
   "metadata": {},
   "outputs": [
    {
     "name": "stdout",
     "output_type": "stream",
     "text": [
      "Older Posts https://doxydonkey.blogspot.com/search?updated-max=2017-05-23T19:53:00-07:00&max-results=7\n",
      "Older Posts https://doxydonkey.blogspot.com/search?updated-max=2017-05-14T19:02:00-07:00&max-results=7&start=7&by-date=false\n",
      "Older Posts https://doxydonkey.blogspot.com/search?updated-max=2017-05-02T19:43:00-07:00&max-results=7&start=14&by-date=false\n",
      "Older Posts https://doxydonkey.blogspot.com/search?updated-max=2017-04-17T19:26:00-07:00&max-results=7&start=21&by-date=false\n",
      "Older Posts https://doxydonkey.blogspot.com/search?updated-max=2017-04-10T18:56:00-07:00&max-results=7&start=28&by-date=false\n",
      "Older Posts https://doxydonkey.blogspot.com/search?updated-max=2017-03-30T19:57:00-07:00&max-results=7&start=35&by-date=false\n",
      "Older Posts https://doxydonkey.blogspot.com/search?updated-max=2017-03-20T19:47:00-07:00&max-results=7&start=42&by-date=false\n",
      "Older Posts https://doxydonkey.blogspot.com/search?updated-max=2017-03-02T17:42:00-08:00&max-results=7&start=49&by-date=false\n",
      "Older Posts https://doxydonkey.blogspot.com/search?updated-max=2017-02-21T19:13:00-08:00&max-results=7&start=56&by-date=false\n",
      "Older Posts https://doxydonkey.blogspot.com/search?updated-max=2017-02-12T18:34:00-08:00&max-results=7&start=63&by-date=false\n",
      "Older Posts https://doxydonkey.blogspot.com/search?updated-max=2017-02-01T18:56:00-08:00&max-results=7&start=70&by-date=false\n",
      "Older Posts https://doxydonkey.blogspot.com/search?updated-max=2017-01-22T18:58:00-08:00&max-results=7&start=77&by-date=false\n",
      "Older Posts https://doxydonkey.blogspot.com/search?updated-max=2017-01-11T18:09:00-08:00&max-results=7&start=84&by-date=false\n",
      "Older Posts https://doxydonkey.blogspot.com/search?updated-max=2017-01-02T17:59:00-08:00&max-results=7&start=91&by-date=false\n",
      "Older Posts https://doxydonkey.blogspot.com/search?updated-max=2016-12-22T18:58:00-08:00&max-results=7&start=98&by-date=false\n",
      "Older Posts https://doxydonkey.blogspot.com/search?updated-max=2016-12-13T18:57:00-08:00&max-results=7&start=105&by-date=false\n",
      "Older Posts https://doxydonkey.blogspot.com/search?updated-max=2016-12-04T18:58:00-08:00&max-results=7&start=112&by-date=false\n",
      "Older Posts https://doxydonkey.blogspot.com/search?updated-max=2016-09-09T07:34:00-07:00&max-results=7&start=119&by-date=false\n",
      "Older Posts https://doxydonkey.blogspot.com/search?updated-max=2016-08-28T20:08:00-07:00&max-results=7&start=126&by-date=false\n",
      "Older Posts https://doxydonkey.blogspot.com/search?updated-max=2016-08-17T19:24:00-07:00&max-results=7&start=133&by-date=false\n",
      "Older Posts https://doxydonkey.blogspot.com/search?updated-max=2016-08-07T20:30:00-07:00&max-results=7&start=140&by-date=false\n",
      "Older Posts https://doxydonkey.blogspot.com/search?updated-max=2016-07-26T19:55:00-07:00&max-results=7&start=147&by-date=false\n",
      "Older Posts https://doxydonkey.blogspot.com/search?updated-max=2016-07-17T19:47:00-07:00&max-results=7&start=154&by-date=false\n",
      "Older Posts https://doxydonkey.blogspot.com/search?updated-max=2016-07-06T19:34:00-07:00&max-results=7&start=161&by-date=false\n",
      "Older Posts https://doxydonkey.blogspot.com/search?updated-max=2016-06-26T19:36:00-07:00&max-results=7&start=168&by-date=false\n",
      "Older Posts https://doxydonkey.blogspot.com/search?updated-max=2016-06-15T19:23:00-07:00&max-results=7&start=175&by-date=false\n",
      "Older Posts https://doxydonkey.blogspot.com/search?updated-max=2016-06-06T18:50:00-07:00&max-results=7&start=182&by-date=false\n",
      "Older Posts https://doxydonkey.blogspot.com/search?updated-max=2016-05-26T20:08:00-07:00&max-results=7&start=189&by-date=false\n",
      "Older Posts https://doxydonkey.blogspot.com/search?updated-max=2016-05-17T18:52:00-07:00&max-results=7&start=196&by-date=false\n",
      "Older Posts https://doxydonkey.blogspot.com/search?updated-max=2016-05-06T19:26:00-07:00&max-results=7&start=203&by-date=false\n",
      "Older Posts https://doxydonkey.blogspot.com/search?updated-max=2016-04-27T19:03:00-07:00&max-results=7&start=210&by-date=false\n",
      "Older Posts https://doxydonkey.blogspot.com/search?updated-max=2016-04-19T19:36:00-07:00&max-results=7&start=217&by-date=false\n",
      "Older Posts https://doxydonkey.blogspot.com/search?updated-max=2016-04-10T19:19:00-07:00&max-results=7&start=224&by-date=false\n",
      "Older Posts https://doxydonkey.blogspot.com/search?updated-max=2016-03-30T19:12:00-07:00&max-results=7&start=231&by-date=false\n",
      "Older Posts https://doxydonkey.blogspot.com/search?updated-max=2016-03-20T18:41:00-07:00&max-results=7&start=238&by-date=false\n",
      "Older Posts https://doxydonkey.blogspot.com/search?updated-max=2016-03-09T18:38:00-08:00&max-results=7&start=245&by-date=false\n",
      "Older Posts https://doxydonkey.blogspot.com/search?updated-max=2016-02-28T17:47:00-08:00&max-results=7&start=252&by-date=false\n",
      "Older Posts https://doxydonkey.blogspot.com/search?updated-max=2016-02-17T18:44:00-08:00&max-results=7&start=259&by-date=false\n",
      "Older Posts https://doxydonkey.blogspot.com/search?updated-max=2016-02-08T18:13:00-08:00&max-results=7&start=266&by-date=false\n",
      "Older Posts https://doxydonkey.blogspot.com/search?updated-max=2016-01-28T19:45:00-08:00&max-results=7&start=273&by-date=false\n",
      "Older Posts https://doxydonkey.blogspot.com/search?updated-max=2016-01-18T18:30:00-08:00&max-results=7&start=280&by-date=false\n",
      "Older Posts https://doxydonkey.blogspot.com/search?updated-max=2016-01-07T19:03:00-08:00&max-results=7&start=287&by-date=false\n",
      "Older Posts https://doxydonkey.blogspot.com/search?updated-max=2015-12-28T18:26:00-08:00&max-results=7&start=294&by-date=false\n",
      "Older Posts https://doxydonkey.blogspot.com/search?updated-max=2015-12-16T18:24:00-08:00&max-results=7&start=301&by-date=false\n",
      "Older Posts https://doxydonkey.blogspot.com/search?updated-max=2015-12-07T18:24:00-08:00&max-results=7&start=308&by-date=false\n",
      "Older Posts https://doxydonkey.blogspot.com/search?updated-max=2015-11-26T17:49:00-08:00&max-results=7&start=315&by-date=false\n",
      "Older Posts https://doxydonkey.blogspot.com/search?updated-max=2015-11-17T18:18:00-08:00&max-results=7&start=322&by-date=false\n",
      "Older Posts https://doxydonkey.blogspot.com/search?updated-max=2015-11-05T20:15:00-08:00&max-results=7&start=329&by-date=false\n",
      "Older Posts https://doxydonkey.blogspot.com/search?updated-max=2015-10-27T20:04:00-07:00&max-results=7&start=336&by-date=false\n",
      "Older Posts https://doxydonkey.blogspot.com/search?updated-max=2015-10-12T19:45:00-07:00&max-results=7&start=343&by-date=false\n",
      "Older Posts https://doxydonkey.blogspot.com/search?updated-max=2015-09-30T19:33:00-07:00&max-results=7&start=350&by-date=false\n",
      "Older Posts https://doxydonkey.blogspot.com/search?updated-max=2015-09-20T19:11:00-07:00&max-results=7&start=357&by-date=false\n",
      "Older Posts https://doxydonkey.blogspot.com/search?updated-max=2015-09-09T19:32:00-07:00&max-results=7&start=364&by-date=false\n",
      "Older Posts https://doxydonkey.blogspot.com/search?updated-max=2015-08-31T19:31:00-07:00&max-results=7&start=371&by-date=false\n",
      "Older Posts https://doxydonkey.blogspot.com/search?updated-max=2015-08-20T19:29:00-07:00&max-results=7&start=378&by-date=false\n",
      "Older Posts https://doxydonkey.blogspot.com/search?updated-max=2015-08-11T19:32:00-07:00&max-results=7&start=385&by-date=false\n",
      "Older Posts https://doxydonkey.blogspot.com/search?updated-max=2015-08-02T19:04:00-07:00&max-results=7&start=392&by-date=false\n",
      "Older Posts https://doxydonkey.blogspot.com/search?updated-max=2015-07-22T19:39:00-07:00&max-results=7&start=399&by-date=false\n",
      "Older Posts https://doxydonkey.blogspot.com/search?updated-max=2015-07-13T19:38:00-07:00&max-results=7&start=406&by-date=false\n",
      "Older Posts https://doxydonkey.blogspot.com/search?updated-max=2015-07-02T21:15:00-07:00&max-results=7&start=413&by-date=false\n",
      "Older Posts https://doxydonkey.blogspot.com/search?updated-max=2015-06-23T19:30:00-07:00&max-results=7&start=420&by-date=false\n",
      "Older Posts https://doxydonkey.blogspot.com/search?updated-max=2015-06-14T19:36:00-07:00&max-results=7&start=427&by-date=false\n",
      "Older Posts https://doxydonkey.blogspot.com/search?updated-max=2015-06-02T19:38:00-07:00&max-results=7&start=434&by-date=false\n",
      "Older Posts https://doxydonkey.blogspot.com/search?updated-max=2015-05-24T20:16:00-07:00&max-results=7&start=441&by-date=false\n",
      "Older Posts https://doxydonkey.blogspot.com/search?updated-max=2015-05-13T20:18:00-07:00&max-results=7&start=448&by-date=false\n",
      "Older Posts https://doxydonkey.blogspot.com/search?updated-max=2015-05-04T20:23:00-07:00&max-results=7&start=455&by-date=false\n",
      "Older Posts https://doxydonkey.blogspot.com/search?updated-max=2015-04-23T20:19:00-07:00&max-results=7&start=462&by-date=false\n",
      "Older Posts https://doxydonkey.blogspot.com/search?updated-max=2015-04-14T19:40:00-07:00&max-results=7&start=469&by-date=false\n",
      "Older Posts https://doxydonkey.blogspot.com/search?updated-max=2015-04-05T20:22:00-07:00&max-results=7&start=476&by-date=false\n",
      "Older Posts https://doxydonkey.blogspot.com/search?updated-max=2015-03-24T20:12:00-07:00&max-results=7&start=483&by-date=false\n",
      "Older Posts https://doxydonkey.blogspot.com/search?updated-max=2015-03-15T20:41:00-07:00&max-results=7&start=490&by-date=false\n",
      "Older Posts https://doxydonkey.blogspot.com/search?updated-max=2015-03-03T19:30:00-08:00&max-results=7&start=497&by-date=false\n",
      "Older Posts https://doxydonkey.blogspot.com/search?updated-max=2015-02-22T19:55:00-08:00&max-results=7&start=504&by-date=false\n",
      "Older Posts https://doxydonkey.blogspot.com/search?updated-max=2015-02-11T20:02:00-08:00&max-results=7&start=511&by-date=false\n",
      "Older Posts https://doxydonkey.blogspot.com/search?updated-max=2015-02-02T19:46:00-08:00&max-results=7&start=518&by-date=false\n",
      "Older Posts https://doxydonkey.blogspot.com/search?updated-max=2015-01-22T19:50:00-08:00&max-results=7&start=524&by-date=false\n",
      "Older Posts https://doxydonkey.blogspot.com/search?updated-max=2015-01-15T19:17:00-08:00&max-results=7&start=529&by-date=false\n",
      "Older Posts https://doxydonkey.blogspot.com/search?updated-max=2015-01-06T19:48:00-08:00&max-results=7&start=536&by-date=false\n",
      "Older Posts https://doxydonkey.blogspot.com/search?updated-max=2014-12-25T21:30:00-08:00&max-results=7&start=543&by-date=false\n",
      "Older Posts https://doxydonkey.blogspot.com/search?updated-max=2014-12-15T19:24:00-08:00&max-results=7&start=550&by-date=false\n",
      "Older Posts https://doxydonkey.blogspot.com/search?updated-max=2014-12-05T01:52:00-08:00&max-results=7&start=557&by-date=false\n",
      "Older Posts https://doxydonkey.blogspot.com/search?updated-max=2014-11-26T01:44:00-08:00&max-results=7&start=564&by-date=false\n",
      "Older Posts https://doxydonkey.blogspot.com/search?updated-max=2014-11-17T01:41:00-08:00&max-results=7&start=571&by-date=false\n",
      "Older Posts https://doxydonkey.blogspot.com/search?updated-max=2014-11-06T01:38:00-08:00&max-results=7&start=578&by-date=false\n",
      "Older Posts https://doxydonkey.blogspot.com/search?updated-max=2014-10-28T01:24:00-07:00&max-results=7&start=585&by-date=false\n",
      "Older Posts https://doxydonkey.blogspot.com/search?updated-max=2014-10-17T01:20:00-07:00&max-results=7&start=592&by-date=false\n",
      " outside for:: 86\n",
      " outside for:: 86\n",
      " outside for:: 86\n",
      " outside for:: 86\n",
      " outside for:: 86\n",
      " outside for:: 86\n",
      " outside for:: 86\n",
      " outside for:: 86\n",
      " outside for:: 86\n",
      " outside for:: 86\n",
      " outside for:: 86\n",
      " outside for:: 86\n",
      " outside for:: 86\n",
      " outside for:: 86\n",
      " outside for:: 86\n",
      " outside for:: 86\n",
      " outside for:: 86\n",
      " outside for:: 86\n",
      " outside for:: 86\n",
      " outside for:: 86\n",
      " outside for:: 86\n",
      " outside for:: 86\n",
      " outside for:: 86\n",
      " outside for:: 86\n",
      " outside for:: 86\n",
      " outside for:: 86\n",
      " outside for:: 86\n",
      " outside for:: 86\n",
      " outside for:: 86\n",
      " outside for:: 86\n",
      " outside for:: 86\n",
      " outside for:: 86\n",
      " outside for:: 86\n",
      " outside for:: 86\n",
      " outside for:: 86\n",
      " outside for:: 86\n",
      " outside for:: 86\n",
      " outside for:: 86\n",
      " outside for:: 86\n",
      " outside for:: 86\n",
      " outside for:: 86\n",
      " outside for:: 86\n",
      " outside for:: 86\n",
      " outside for:: 86\n",
      " outside for:: 86\n",
      " outside for:: 86\n",
      " outside for:: 86\n",
      " outside for:: 86\n",
      " outside for:: 86\n",
      " outside for:: 86\n",
      " outside for:: 86\n",
      " outside for:: 86\n",
      " outside for:: 86\n",
      " outside for:: 86\n",
      " outside for:: 86\n",
      " outside for:: 86\n",
      " outside for:: 86\n",
      " outside for:: 86\n",
      " outside for:: 86\n",
      " outside for:: 86\n",
      " outside for:: 86\n",
      " outside for:: 86\n",
      " outside for:: 86\n",
      " outside for:: 86\n",
      " outside for:: 86\n",
      " outside for:: 86\n",
      " outside for:: 86\n",
      " outside for:: 86\n",
      " outside for:: 86\n",
      " outside for:: 86\n",
      " outside for:: 86\n",
      " outside for:: 86\n",
      " outside for:: 86\n",
      " outside for:: 86\n",
      " outside for:: 86\n",
      " outside for:: 86\n",
      " outside for:: 86\n",
      " outside for:: 86\n",
      " outside for:: 86\n",
      " outside for:: 86\n",
      " outside for:: 86\n",
      " outside for:: 86\n",
      " outside for:: 86\n",
      " outside for:: 86\n",
      " outside for:: 86\n",
      " outside for:: 86\n",
      " outside for:: 86\n"
     ]
    }
   ],
   "source": [
    "links=[]\n",
    "links.append(\"https://doxydonkey.blogspot.com/\")\n",
    "getAllDoxyDonkeyPosts(\"https://doxydonkey.blogspot.com/\",links)"
   ]
  },
  {
   "cell_type": "code",
   "execution_count": 46,
   "id": "3c8ceab1-07c6-4c11-9f65-e0d8906f14f5",
   "metadata": {},
   "outputs": [],
   "source": [
    "def getAllDoxyDonkeyText(testUrl):\n",
    "    request=urllib2.Request(testUrl)\n",
    "    response=urllib2.urlopen(request)\n",
    "    soup=BeautifulSoup(response)\n",
    "    \n",
    "    myDivs=soup.findAll('div',{\"class\":'post-body entry-content'})\n",
    "    posts=[]\n",
    "    \n",
    "    for div in myDivs:\n",
    "        posts+=map(lambda p:p.text, div.findAll(\"li\"))\n",
    "    #print(len(posts))\n",
    "    return posts"
   ]
  },
  {
   "cell_type": "code",
   "execution_count": 47,
   "id": "1e386d94-a512-435f-b644-f530e0c043b4",
   "metadata": {},
   "outputs": [],
   "source": [
    "#post=getAllDoxyDonkeyText(\"https://doxydonkey.blogspot.com/\")\n",
    "doxyDonkeyPosts=[]"
   ]
  },
  {
   "cell_type": "code",
   "execution_count": 48,
   "id": "63042f79-e6f4-4959-8673-fd5ceaf85ae0",
   "metadata": {},
   "outputs": [],
   "source": [
    "for link in links:\n",
    "    doxyDonkeyPosts+=getAllDoxyDonkeyText(link)  "
   ]
  },
  {
   "cell_type": "code",
   "execution_count": 50,
   "id": "3cfd720e-e3a1-4d7d-8816-b40c8b10f752",
   "metadata": {},
   "outputs": [],
   "source": [
    "from sklearn.feature_extraction.text import TfidfVectorizer"
   ]
  },
  {
   "cell_type": "code",
   "execution_count": 51,
   "id": "de7846c6-7cca-42c8-8c0c-155bba6afd9c",
   "metadata": {},
   "outputs": [
    {
     "data": {
      "text/plain": [
       "<2804x13219 sparse matrix of type '<class 'numpy.float64'>'\n",
       "\twith 280830 stored elements in Compressed Sparse Row format>"
      ]
     },
     "execution_count": 51,
     "metadata": {},
     "output_type": "execute_result"
    }
   ],
   "source": [
    "vectorizer=TfidfVectorizer(max_df=0.5,min_df=2,stop_words='english')\n",
    "X=vectorizer.fit_transform(doxyDonkeyPosts)\n",
    "X"
   ]
  },
  {
   "cell_type": "code",
   "execution_count": 54,
   "id": "6eed6995-f398-4790-a214-6e4b46ef32d8",
   "metadata": {},
   "outputs": [],
   "source": [
    "#print(X[0])\n",
    "from sklearn.cluster import KMeans"
   ]
  },
  {
   "cell_type": "code",
   "execution_count": 56,
   "id": "02f5d77e-5e14-45e6-9bd0-bfe75608d7de",
   "metadata": {},
   "outputs": [
    {
     "name": "stdout",
     "output_type": "stream",
     "text": [
      "Initialization complete\n",
      "Iteration 0, inertia 5162.718162381645\n",
      "Iteration 1, inertia 2678.0858568118015\n",
      "Iteration 2, inertia 2673.936593591847\n",
      "Iteration 3, inertia 2672.990323874513\n",
      "Iteration 4, inertia 2672.6333704402587\n",
      "Iteration 5, inertia 2672.4095259412675\n",
      "Iteration 6, inertia 2672.189657964154\n",
      "Iteration 7, inertia 2671.78450475882\n",
      "Iteration 8, inertia 2671.263431071896\n",
      "Iteration 9, inertia 2670.266210120417\n",
      "Iteration 10, inertia 2669.4279561021112\n",
      "Iteration 11, inertia 2669.062297348179\n",
      "Iteration 12, inertia 2668.851637840718\n",
      "Iteration 13, inertia 2668.706002672006\n",
      "Iteration 14, inertia 2668.5623134920293\n",
      "Iteration 15, inertia 2668.44945586\n",
      "Iteration 16, inertia 2668.3533387749967\n",
      "Iteration 17, inertia 2668.263654451316\n",
      "Iteration 18, inertia 2668.1744918412255\n",
      "Iteration 19, inertia 2668.1019224391384\n",
      "Iteration 20, inertia 2668.058588508997\n",
      "Iteration 21, inertia 2668.0366417350087\n",
      "Iteration 22, inertia 2668.01911006297\n",
      "Iteration 23, inertia 2667.9907358805544\n",
      "Iteration 24, inertia 2667.957377301662\n",
      "Iteration 25, inertia 2667.906521913529\n",
      "Iteration 26, inertia 2667.836895646959\n",
      "Iteration 27, inertia 2667.7375784446967\n",
      "Iteration 28, inertia 2667.61245474574\n",
      "Iteration 29, inertia 2667.505387956397\n",
      "Iteration 30, inertia 2667.390052957049\n",
      "Iteration 31, inertia 2667.2850335295348\n",
      "Iteration 32, inertia 2667.140213095412\n",
      "Iteration 33, inertia 2666.903716394459\n",
      "Iteration 34, inertia 2666.7210764291663\n",
      "Iteration 35, inertia 2666.646288525309\n",
      "Iteration 36, inertia 2666.5966273520876\n",
      "Iteration 37, inertia 2666.540283080568\n",
      "Iteration 38, inertia 2666.5112302848274\n",
      "Iteration 39, inertia 2666.5044171330355\n",
      "Converged at iteration 39: strict convergence.\n"
     ]
    },
    {
     "data": {
      "text/plain": [
       "KMeans(max_iter=100, n_clusters=3, n_init=1, verbose=True)"
      ]
     },
     "execution_count": 56,
     "metadata": {},
     "output_type": "execute_result"
    }
   ],
   "source": [
    "km=KMeans(n_clusters=3, init=\"k-means++\", max_iter=100, n_init=1, verbose= True)\n",
    "km.fit(X)"
   ]
  },
  {
   "cell_type": "code",
   "execution_count": 57,
   "id": "78360649-b42f-49b6-a5d6-3b03bc69f6de",
   "metadata": {},
   "outputs": [
    {
     "data": {
      "text/plain": [
       "(array([0, 1, 2]), array([1822,  390,  592], dtype=int64))"
      ]
     },
     "execution_count": 57,
     "metadata": {},
     "output_type": "execute_result"
    }
   ],
   "source": [
    "import numpy as np\n",
    "np.unique(km.labels_,return_counts=True)"
   ]
  },
  {
   "cell_type": "code",
   "execution_count": 67,
   "id": "1aed1224-1340-4e5f-a320-0984ae3227a6",
   "metadata": {},
   "outputs": [],
   "source": [
    "text={}\n",
    "#print(len(doxyDonkeyPosts))\n",
    "for i , cluster in enumerate (km.labels_):\n",
    "    doc=doxyDonkeyPosts[i]\n",
    "    if cluster not in text.keys():\n",
    "        text[cluster]=doc\n",
    "    else:\n",
    "        text[cluster]+=doc "
   ]
  },
  {
   "cell_type": "code",
   "execution_count": 68,
   "id": "61158963-96f7-4970-95ec-be2c4160642e",
   "metadata": {},
   "outputs": [],
   "source": [
    "from nltk.tokenize import sent_tokenize, word_tokenize\n",
    "from nltk.corpus import stopwords\n",
    "from nltk.probability import FreqDist\n",
    "from collections import defaultdict\n",
    "from string import punctuation\n",
    "from heapq import nlargest\n",
    "import nltk"
   ]
  },
  {
   "cell_type": "code",
   "execution_count": 69,
   "id": "a96cd7d3-d4c5-4332-b0d3-6e5364a3df53",
   "metadata": {},
   "outputs": [],
   "source": [
    "_stopwords=set(stopwords.words('english')+list(punctuation)+[\"million\",\"billion\",\"millions\",\"billions\",\"'s\",\"y/y\",\"''\"])"
   ]
  },
  {
   "cell_type": "code",
   "execution_count": 70,
   "id": "6f91e361-66ca-4b90-b3fd-4b7c1fb06ae6",
   "metadata": {},
   "outputs": [
    {
     "name": "stderr",
     "output_type": "stream",
     "text": [
      "IOPub data rate exceeded.\n",
      "The Jupyter server will temporarily stop sending output\n",
      "to the client in order to avoid crashing it.\n",
      "To change this limit, set the config variable\n",
      "`--ServerApp.iopub_data_rate_limit`.\n",
      "\n",
      "Current values:\n",
      "ServerApp.iopub_data_rate_limit=1000000.0 (bytes/sec)\n",
      "ServerApp.rate_limit_window=3.0 (secs)\n",
      "\n"
     ]
    }
   ],
   "source": [
    "keywords={}\n",
    "counts={}\n",
    "print(text)\n",
    "for cluster in range(3):\n",
    "    word_sent=word_tokenize(text[cluster].lower())\n",
    "    word_sent=[word for word in word_sent if word not in _stopwords]\n",
    "    freq=FreqDist(word_sent)\n",
    "    keywords[cluster]=nlargest(100, freq,key=freq.get)\n",
    "    counts[cluster]=freq"
   ]
  },
  {
   "cell_type": "code",
   "execution_count": 72,
   "id": "c3a6875e-f2a6-40df-ba46-e710f63ea8a6",
   "metadata": {},
   "outputs": [
    {
     "name": "stdout",
     "output_type": "stream",
     "text": [
      "{0: ['uber', 'india', 'customers', 'chinese', 'deal', 'firm', 'public', 'capital', 'round', 'price'], 1: ['quarter', 'profit', 'rose', 'earnings', 'analysts', 'cents', 'net', 'fell', 'reported', 'trading'], 2: ['ads', 'video', 'ad', 'search', 'apps', 'social', 'snapchat', 'youtube', 'advertisers', 'content']}\n"
     ]
    }
   ],
   "source": [
    "unique_keywords={}\n",
    "for cluster in range(3):\n",
    "    other_cluster=list(set(range(3))-set([cluster]))\n",
    "    other_keywords=set(keywords[other_cluster[0]]).union(set(keywords[other_cluster[1]]))\n",
    "    unique=set(keywords[cluster])-other_keywords\n",
    "    unique_keywords[cluster]=nlargest(10, unique,key=counts[cluster].get)\n",
    "print(unique_keywords)"
   ]
  },
  {
   "cell_type": "code",
   "execution_count": 73,
   "id": "d8d5728c-f682-4a4c-889e-a6629f82eb3c",
   "metadata": {},
   "outputs": [],
   "source": [
    "#to classify new article use KNN\n",
    "article=\"Amazon.com Inc.’s shares rose briefly just above $1,000 for the first time Tuesday, marking a new milestone for a company wooing investors by dominating online commerce and cloud computing. Amazon hit an intraday high of $1,001.20 in New York before ending the day little changed at $996.70. The stock is up almost 40 percent from a year ago and more than double the 15 percent gain of the S&P 500 Index in the same period. Investors are thinking about how much further Amazon can grow as it tries to replicate its U.S. success abroad. The Seattle company’s $478 billion market value is double that of Wal-Mart Stores Inc. even though the world’s biggest retailer will have sales three times larger than Amazon’s this year. Investors put more value in Amazon’s web traffic and delivery network than they do in Wal-Mart’s vast store presence because online spending will grow more than four times faster than overall retail spending this year as shoppers continue to shift from stores to websites, according to EMarketer Inc. The world’s largest online retailer is dominating e-commerce with its $99-a-year Amazon Prime subscription, which includes delivery discounts, music and video streaming and photo storage that keep shoppers engaged with the website. Another Amazon advantage is its profitable and fast-growing cloud-computing division Amazon Web Services, which maintains a global network of data centers and rents out storage space and computing functions to clients in a variety of industries, including Netflix Inc. and Airbnb Inc. as well as Capital One Financial Corp. and the federal government.\""
   ]
  },
  {
   "cell_type": "code",
   "execution_count": 75,
   "id": "861bce9a-ab46-4e1a-bb2f-0485e4b63ccf",
   "metadata": {},
   "outputs": [
    {
     "data": {
      "text/plain": [
       "KNeighborsClassifier()"
      ]
     },
     "execution_count": 75,
     "metadata": {},
     "output_type": "execute_result"
    }
   ],
   "source": [
    "from sklearn.neighbors import KNeighborsClassifier\n",
    "classifier= KNeighborsClassifier()\n",
    "classifier.fit(X,km.labels_)"
   ]
  },
  {
   "cell_type": "code",
   "execution_count": 78,
   "id": "b480e9fd-ee71-490a-a29b-1b1cad583e66",
   "metadata": {},
   "outputs": [
    {
     "data": {
      "text/plain": [
       "<1x13219 sparse matrix of type '<class 'numpy.float64'>'\n",
       "\twith 113 stored elements in Compressed Sparse Row format>"
      ]
     },
     "execution_count": 78,
     "metadata": {},
     "output_type": "execute_result"
    }
   ],
   "source": [
    "test=vectorizer.transform([article])\n",
    "test"
   ]
  },
  {
   "cell_type": "code",
   "execution_count": 79,
   "id": "91edc5f8-c765-4cc9-99a0-574fda558a14",
   "metadata": {},
   "outputs": [
    {
     "data": {
      "text/plain": [
       "array([0])"
      ]
     },
     "execution_count": 79,
     "metadata": {},
     "output_type": "execute_result"
    }
   ],
   "source": [
    "classifier.predict(test)"
   ]
  },
  {
   "cell_type": "code",
   "execution_count": null,
   "id": "1849337a-30e0-4560-bdef-68e467f7db4a",
   "metadata": {},
   "outputs": [],
   "source": []
  }
 ],
 "metadata": {
  "kernelspec": {
   "display_name": "Python 3",
   "language": "python",
   "name": "python3"
  },
  "language_info": {
   "codemirror_mode": {
    "name": "ipython",
    "version": 3
   },
   "file_extension": ".py",
   "mimetype": "text/x-python",
   "name": "python",
   "nbconvert_exporter": "python",
   "pygments_lexer": "ipython3",
   "version": "3.8.8"
  }
 },
 "nbformat": 4,
 "nbformat_minor": 5
}
